{
 "cells": [
  {
   "cell_type": "code",
   "execution_count": 1,
   "metadata": {},
   "outputs": [
    {
     "name": "stdout",
     "output_type": "stream",
     "text": [
      "Import: haskellian.classes.monad\n",
      "Import: haskellian.classes.applicative\n",
      "Import: haskellian.classes.functor\n"
     ]
    }
   ],
   "source": [
    "from dataclasses import dataclass\n",
    "from typing import Generic, TypeVar, Literal, Callable, Any, TypeGuard, Iterator, Iterable, overload\n",
    "A = TypeVar('A', covariant=True)\n",
    "B = TypeVar('B')\n",
    "from abc import ABC, abstractmethod\n",
    "from haskellian import iter as I, Monad"
   ]
  },
  {
   "cell_type": "code",
   "execution_count": 2,
   "metadata": {},
   "outputs": [
    {
     "name": "stdout",
     "output_type": "stream",
     "text": [
      "Import: haskellian.iter.batching\n",
      "Import: haskellian.iter.slicing\n",
      "Import: haskellian.iter.basics\n",
      "Iter([0, 2, 4, 6, 8, ...])\n",
      "Iter([0, 2, 4, 6, 8, ...])\n"
     ]
    }
   ],
   "source": [
    "x = I.Iter(range(50)).map(lambda x: 2*x)\n",
    "print(x)\n",
    "print(x)"
   ]
  }
 ],
 "metadata": {
  "kernelspec": {
   "display_name": ".venv",
   "language": "python",
   "name": "python3"
  },
  "language_info": {
   "codemirror_mode": {
    "name": "ipython",
    "version": 3
   },
   "file_extension": ".py",
   "mimetype": "text/x-python",
   "name": "python",
   "nbconvert_exporter": "python",
   "pygments_lexer": "ipython3",
   "version": "3.11.6"
  }
 },
 "nbformat": 4,
 "nbformat_minor": 2
}
