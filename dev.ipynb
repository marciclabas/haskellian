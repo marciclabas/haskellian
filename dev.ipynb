{
 "cells": [
  {
   "cell_type": "code",
   "execution_count": 13,
   "metadata": {},
   "outputs": [
    {
     "name": "stdout",
     "output_type": "stream",
     "text": [
      "Import: haskellian.pipe.pipe\n"
     ]
    }
   ],
   "source": [
    "from haskellian import either as E, iter as I, promise as P, Pipe, asyn_iter as AI"
   ]
  },
  {
   "cell_type": "code",
   "execution_count": 40,
   "metadata": {},
   "outputs": [
    {
     "data": {
      "text/plain": [
       "['Name']"
      ]
     },
     "execution_count": 40,
     "metadata": {},
     "output_type": "execute_result"
    }
   ],
   "source": [
    "async def fetch_users() -> list[str]:\n",
    "  return ['id']\n",
    "async def fetch_user(id) -> str:\n",
    "  return 'Name'\n",
    "\n",
    "await P.Promise(fetch_users()) \\\n",
    ".bind(lambda ids: P.all(map(fetch_user, ids))) \\\n",
    ".then(sorted)"
   ]
  }
 ],
 "metadata": {
  "kernelspec": {
   "display_name": ".venv",
   "language": "python",
   "name": "python3"
  },
  "language_info": {
   "codemirror_mode": {
    "name": "ipython",
    "version": 3
   },
   "file_extension": ".py",
   "mimetype": "text/x-python",
   "name": "python",
   "nbconvert_exporter": "python",
   "pygments_lexer": "ipython3",
   "version": "3.11.6"
  }
 },
 "nbformat": 4,
 "nbformat_minor": 2
}
