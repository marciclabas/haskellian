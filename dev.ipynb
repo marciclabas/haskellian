{
 "cells": [
  {
   "cell_type": "code",
   "execution_count": 1,
   "metadata": {},
   "outputs": [],
   "source": [
    "from typing import TypeVar, Callable, Mapping\n",
    "from haskellian import Dict, dicts as D\n",
    "import inspect\n",
    "\n",
    "K = TypeVar('K')\n",
    "K2 = TypeVar('K2')\n",
    "V = TypeVar('V')\n",
    "V2 = TypeVar('V2')\n",
    "T = TypeVar('T')"
   ]
  },
  {
   "cell_type": "code",
   "execution_count": 3,
   "metadata": {},
   "outputs": [
    {
     "data": {
      "text/plain": [
       "10"
      ]
     },
     "execution_count": 3,
     "metadata": {},
     "output_type": "execute_result"
    }
   ],
   "source": [
    "def pad(xs, length, value):\n",
    "  i = 0\n",
    "  for i, x in enumerate(xs):\n",
    "    yield x\n",
    "  for _ in range(i+1, length):\n",
    "    yield value\n",
    "\n",
    "len(list(pad(range(4), 10, 0)))"
   ]
  }
 ],
 "metadata": {
  "kernelspec": {
   "display_name": ".venv",
   "language": "python",
   "name": "python3"
  },
  "language_info": {
   "codemirror_mode": {
    "name": "ipython",
    "version": 3
   },
   "file_extension": ".py",
   "mimetype": "text/x-python",
   "name": "python",
   "nbconvert_exporter": "python",
   "pygments_lexer": "ipython3",
   "version": "3.11.9"
  }
 },
 "nbformat": 4,
 "nbformat_minor": 2
}
