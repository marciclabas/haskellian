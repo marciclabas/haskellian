{
 "cells": [
  {
   "cell_type": "code",
   "execution_count": 14,
   "metadata": {},
   "outputs": [],
   "source": [
    "import haskellian.either as E\n",
    "from haskellian.either import IsLeft\n",
    "from pydantic import BaseModel, Field\n",
    "from quicktype_ts import pydantic2typescript"
   ]
  },
  {
   "cell_type": "code",
   "execution_count": 23,
   "metadata": {},
   "outputs": [
    {
     "ename": "TypeError",
     "evalue": "Can't instantiate abstract class Left with abstract method match",
     "output_type": "error",
     "traceback": [
      "\u001b[0;31m---------------------------------------------------------------------------\u001b[0m",
      "\u001b[0;31mTypeError\u001b[0m                                 Traceback (most recent call last)",
      "Cell \u001b[0;32mIn[23], line 35\u001b[0m\n\u001b[1;32m     31\u001b[0m     \u001b[38;5;28;01mreturn\u001b[39;00m f(\u001b[38;5;28mself\u001b[39m\u001b[38;5;241m.\u001b[39mright)\n\u001b[1;32m     33\u001b[0m Either \u001b[38;5;241m=\u001b[39m Left[L] \u001b[38;5;241m|\u001b[39m Right[R]\n\u001b[0;32m---> 35\u001b[0m \u001b[43mLeft\u001b[49m\u001b[43m(\u001b[49m\u001b[38;5;241;43m2\u001b[39;49m\u001b[43m)\u001b[49m\n",
      "\u001b[0;31mTypeError\u001b[0m: Can't instantiate abstract class Left with abstract method match"
     ]
    }
   ],
   "source": [
    "from typing import Generic, TypeVar, Literal, Callable, Any\n",
    "from abc import ABC, abstractmethod\n",
    "from dataclasses import dataclass\n",
    "A = TypeVar('A')\n",
    "L = TypeVar('L')\n",
    "R = TypeVar('R')\n",
    "L2 = TypeVar('L2')\n",
    "R2 = TypeVar('R2')\n",
    "\n",
    "class EitherBase(ABC, Generic[L, R]):\n",
    "\n",
    "  @abstractmethod\n",
    "  def match(self, on_left: Callable[[L], A], on_right: Callable[[R], A]) -> A:\n",
    "    \"\"\"Unwrap an `Either` by matching both branches\"\"\"\n",
    "\n",
    "  @abstractmethod\n",
    "  def unsafe(self) -> R:\n",
    "    \"\"\"Unwraps the value or throws an `IsLeft` exception\n",
    "    \n",
    "    (`IsLeft.value` will contain the wrapped value)\"\"\"\n",
    "    \n",
    "\n",
    "  def bind(self, f: 'Callable[[R], Either[L, R2]]') -> 'Either[L, R2]':\n",
    "    return self.match(lambda x: Left(x), f)\n",
    "\n",
    "  def fmap(self, f: Callable[[R], R2]) -> 'Either[L, R2]':\n",
    "    return self.match(lambda x: Left(x), lambda x: Right(f(x)))\n",
    "\n",
    "  def mapl(self, f: Callable[[L], L2]) -> 'Either[L2, R]':\n",
    "    \"\"\"Map the left branch\"\"\"\n",
    "    return self.match(lambda x: Left(f(x)), lambda x: Right(x))\n",
    "\n",
    "  __or__ = fmap\n",
    "  \"\"\"Alias of `fmap`\"\"\"\n",
    "  \n",
    "  __and__ = bind\n",
    "  \"\"\"Alias of `bind`\"\"\"\n",
    "  \n",
    "  def match_(self, on_left: Callable[[], A], on_right: Callable[[], A]) -> A:\n",
    "    \"\"\"Like `match`, but handlers don't get the wrapped value\"\"\"\n",
    "    return self.match(lambda _: on_left(), lambda _: on_right())\n",
    "\n",
    "@dataclass\n",
    "class Left(EitherBase[L, Any], Generic[L]):\n",
    "  value: L\n",
    "  tag: Literal['left'] = 'left'\n",
    "\n",
    "  def match(self, on_left: Callable[[L], A], on_right: Callable[[R], A]) -> A:\n",
    "    return on_left(self.value)\n",
    "  \n",
    "  def unsafe(self) -> R:\n",
    "    raise IsLeft(self.value)\n",
    "\n",
    "@dataclass\n",
    "class Right(EitherBase[Any, R], Generic[R]):\n",
    "  value: R\n",
    "  tag: Literal['right'] = 'right'\n",
    "\n",
    "  def match(self, on_left: Callable[[L], A], on_right: Callable[[R], A]) -> A:\n",
    "    return on_right(self.value)\n",
    "  \n",
    "  def unsafe(self) -> R:\n",
    "    return self.value\n",
    "\n",
    "Either = Left[L] | Right[R]\n",
    "\n",
    "Left(2)"
   ]
  },
  {
   "cell_type": "code",
   "execution_count": 20,
   "metadata": {},
   "outputs": [
    {
     "data": {
      "text/plain": [
       "'{\"$defs\": {\"Left_int_\": {\"properties\": {\"left\": {\"title\": \"Left\", \"type\": \"integer\"}, \"tag\": {\"const\": \"left\", \"default\": \"left\", \"title\": \"Tag\"}}, \"required\": [\"left\"], \"title\": \"Left\", \"type\": \"object\"}, \"Right_str_\": {\"properties\": {\"right\": {\"title\": \"Right\", \"type\": \"string\"}, \"tag\": {\"const\": \"right\", \"default\": \"right\", \"title\": \"Tag\"}}, \"required\": [\"right\"], \"title\": \"Right\", \"type\": \"object\"}}, \"properties\": {\"x\": {\"discriminator\": {\"mapping\": {\"left\": \"#/$defs/Left_int_\", \"right\": \"#/$defs/Right_str_\"}, \"propertyName\": \"tag\"}, \"oneOf\": [{\"$ref\": \"#/$defs/Left_int_\"}, {\"$ref\": \"#/$defs/Right_str_\"}], \"title\": \"X\"}}, \"required\": [\"x\"], \"title\": \"Model\", \"type\": \"object\"}'"
      ]
     },
     "execution_count": 20,
     "metadata": {},
     "output_type": "execute_result"
    }
   ],
   "source": [
    "import json\n",
    "class Model(BaseModel):\n",
    "  x: Either[int, str] = Field(discriminator='tag')\n",
    "\n",
    "\n",
    "json.dumps(Model.model_json_schema())"
   ]
  }
 ],
 "metadata": {
  "kernelspec": {
   "display_name": ".venv",
   "language": "python",
   "name": "python3"
  },
  "language_info": {
   "codemirror_mode": {
    "name": "ipython",
    "version": 3
   },
   "file_extension": ".py",
   "mimetype": "text/x-python",
   "name": "python",
   "nbconvert_exporter": "python",
   "pygments_lexer": "ipython3",
   "version": "3.11.6"
  }
 },
 "nbformat": 4,
 "nbformat_minor": 2
}
