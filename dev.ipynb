{
 "cells": [
  {
   "cell_type": "code",
   "execution_count": 1,
   "metadata": {},
   "outputs": [],
   "source": [
    "from typing import TypeVar, Callable, Mapping\n",
    "from haskellian import Dict, dicts as D, Iter\n",
    "import inspect\n",
    "\n",
    "K = TypeVar('K')\n",
    "K2 = TypeVar('K2')\n",
    "V = TypeVar('V')\n",
    "V2 = TypeVar('V2')\n",
    "T = TypeVar('T')"
   ]
  },
  {
   "cell_type": "code",
   "execution_count": 4,
   "metadata": {},
   "outputs": [
    {
     "data": {
      "text/plain": [
       "Iter([Dict({'hello': 1, 'world': 4}), Dict({'hello': 2, 'world': 5}), Dict({'hello': 3, 'world': 6})])"
      ]
     },
     "execution_count": 4,
     "metadata": {},
     "output_type": "execute_result"
    }
   ],
   "source": [
    "D.zip({\n",
    "  'hello': [1, 2, 3],\n",
    "  'world': [4, 5, 6],\n",
    "  'tag': 1\n",
    "})"
   ]
  }
 ],
 "metadata": {
  "kernelspec": {
   "display_name": ".venv",
   "language": "python",
   "name": "python3"
  },
  "language_info": {
   "codemirror_mode": {
    "name": "ipython",
    "version": 3
   },
   "file_extension": ".py",
   "mimetype": "text/x-python",
   "name": "python",
   "nbconvert_exporter": "python",
   "pygments_lexer": "ipython3",
   "version": "3.11.9"
  }
 },
 "nbformat": 4,
 "nbformat_minor": 2
}
