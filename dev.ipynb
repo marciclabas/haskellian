{
 "cells": [
  {
   "cell_type": "code",
   "execution_count": 1,
   "metadata": {},
   "outputs": [
    {
     "name": "stdout",
     "output_type": "stream",
     "text": [
      "Import: haskellian.classes.monad\n",
      "Import: haskellian.classes.applicative\n",
      "Import: haskellian.classes.functor\n"
     ]
    }
   ],
   "source": [
    "from dataclasses import dataclass\n",
    "from typing import Generic, TypeVar, Literal, Callable, Any, TypeGuard, Iterator, Iterable, overload\n",
    "A = TypeVar('A', covariant=True)\n",
    "B = TypeVar('B')\n",
    "from abc import ABC, abstractmethod\n",
    "from haskellian import iter as I, Monad\n",
    "import numpy as np"
   ]
  },
  {
   "cell_type": "code",
   "execution_count": 4,
   "metadata": {},
   "outputs": [
    {
     "data": {
      "text/plain": [
       "(None, Iter([, ...]))"
      ]
     },
     "execution_count": 4,
     "metadata": {},
     "output_type": "execute_result"
    }
   ],
   "source": [
    "I.uncons(range(0))"
   ]
  },
  {
   "cell_type": "code",
   "execution_count": 7,
   "metadata": {},
   "outputs": [
    {
     "data": {
      "text/plain": [
       "Iter([0, 2, 4, 6, 8, ...])"
      ]
     },
     "execution_count": 7,
     "metadata": {},
     "output_type": "execute_result"
    }
   ],
   "source": [
    "I.flatmap(lambda x: [2*x], range(int(1e9)))"
   ]
  },
  {
   "cell_type": "code",
   "execution_count": 3,
   "metadata": {},
   "outputs": [
    {
     "name": "stdout",
     "output_type": "stream",
     "text": [
      "Import: haskellian.iter.batching\n",
      "Import: haskellian.iter.slicing\n",
      "Iter([0, 2, 4, 6, 8, ...])\n",
      "Iter([0, 2, 4, 6, 8, ...])\n"
     ]
    }
   ],
   "source": [
    "x = I.Iter(range(50)).map(lambda x: 2*x)\n",
    "print(x)\n",
    "print(x)"
   ]
  }
 ],
 "metadata": {
  "kernelspec": {
   "display_name": ".venv",
   "language": "python",
   "name": "python3"
  },
  "language_info": {
   "codemirror_mode": {
    "name": "ipython",
    "version": 3
   },
   "file_extension": ".py",
   "mimetype": "text/x-python",
   "name": "python",
   "nbconvert_exporter": "python",
   "pygments_lexer": "ipython3",
   "version": "3.11.6"
  }
 },
 "nbformat": 4,
 "nbformat_minor": 2
}
