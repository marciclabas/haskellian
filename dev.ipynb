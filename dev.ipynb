{
 "cells": [
  {
   "cell_type": "code",
   "execution_count": 1,
   "metadata": {},
   "outputs": [],
   "source": [
    "from typing import TypeVar, Callable, Mapping\n",
    "from haskellian import Dict\n",
    "import inspect\n",
    "\n",
    "K = TypeVar('K')\n",
    "K2 = TypeVar('K2')\n",
    "V = TypeVar('V')\n",
    "V2 = TypeVar('V2')\n",
    "T = TypeVar('T')"
   ]
  },
  {
   "cell_type": "code",
   "execution_count": 8,
   "metadata": {},
   "outputs": [
    {
     "data": {
      "text/plain": [
       "Iter([Dict({'x': 1, 'y': 4, 'z': 7}), Dict({'x': 2, 'y': 5, 'z': 8}), Dict({'x': 3, 'y': 6, 'z': 9})])"
      ]
     },
     "execution_count": 8,
     "metadata": {},
     "output_type": "execute_result"
    }
   ],
   "source": [
    "Dict({\n",
    "  'x': [1, 2, 3],\n",
    "  'y': [4, 5, 6],\n",
    "  'z': [7, 8, 9]\n",
    "}).zip()"
   ]
  }
 ],
 "metadata": {
  "kernelspec": {
   "display_name": ".venv",
   "language": "python",
   "name": "python3"
  },
  "language_info": {
   "codemirror_mode": {
    "name": "ipython",
    "version": 3
   },
   "file_extension": ".py",
   "mimetype": "text/x-python",
   "name": "python",
   "nbconvert_exporter": "python",
   "pygments_lexer": "ipython3",
   "version": "3.11.6"
  }
 },
 "nbformat": 4,
 "nbformat_minor": 2
}
