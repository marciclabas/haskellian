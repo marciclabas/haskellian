{
 "cells": [
  {
   "cell_type": "code",
   "execution_count": 2,
   "metadata": {},
   "outputs": [],
   "source": [
    "from typing import TypedDict\n",
    "from haskellian import kwargs as kw, dicts as D, Iter, iter as I"
   ]
  },
  {
   "cell_type": "code",
   "execution_count": 12,
   "metadata": {},
   "outputs": [
    {
     "name": "stdout",
     "output_type": "stream",
     "text": [
      "Iter([0, 1, 2, 3])\n",
      "Iter([4, 5])\n",
      "Iter([6])\n",
      "Iter([7])\n",
      "Iter([8])\n",
      "Iter([9])\n"
     ]
    }
   ],
   "source": [
    "for x in Iter(range(10)).shard(6, lambda x: x, lazy=True):\n",
    "  print(x)"
   ]
  }
 ],
 "metadata": {
  "kernelspec": {
   "display_name": ".venv",
   "language": "python",
   "name": "python3"
  },
  "language_info": {
   "codemirror_mode": {
    "name": "ipython",
    "version": 3
   },
   "file_extension": ".py",
   "mimetype": "text/x-python",
   "name": "python",
   "nbconvert_exporter": "python",
   "pygments_lexer": "ipython3",
   "version": "3.11.6"
  }
 },
 "nbformat": 4,
 "nbformat_minor": 2
}
